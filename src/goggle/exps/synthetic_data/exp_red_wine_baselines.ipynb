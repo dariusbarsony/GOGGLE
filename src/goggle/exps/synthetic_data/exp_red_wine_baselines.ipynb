{
 "cells": [
  {
   "attachments": {},
   "cell_type": "markdown",
   "id": "dffa9af6",
   "metadata": {},
   "source": [
    "### Baselines\n",
    "\n",
    "This Notebook shows you to recreate the baseline results from the paper. It is currently set up to produce results for models \"nflow\", \"ctgan\", \"tvae\", \"bayesian_network\", and \"copulagan\" for the red wine dataset.\n",
    "\n",
    "**Imports**"
   ]
  },
  {
   "cell_type": "code",
   "execution_count": 1,
   "id": "9690a3ca",
   "metadata": {},
   "outputs": [
    {
     "name": "stderr",
     "output_type": "stream",
     "text": [
      "/home/dariusbarsony/anaconda3/envs/goggle_env/lib/python3.8/site-packages/tqdm/auto.py:21: TqdmWarning: IProgress not found. Please update jupyter and ipywidgets. See https://ipywidgets.readthedocs.io/en/stable/user_install.html\n",
      "  from .autonotebook import tqdm as notebook_tqdm\n"
     ]
    },
    {
     "name": "stdout",
     "output_type": "stream",
     "text": [
      "[KeOps] Warning : Cuda libraries were not detected on the system ; using cpu only mode\n"
     ]
    }
   ],
   "source": [
    "# Third party\n",
    "import numpy as np\n",
    "import pandas as pd\n",
    "import matplotlib.pyplot as plt\n",
    "from sklearn.preprocessing import StandardScaler\n",
    "from sklearn.compose import ColumnTransformer\n",
    "from sklearn.model_selection import train_test_split\n",
    "from sklearn.manifold import TSNE\n",
    "import seaborn as sns\n",
    "\n",
    "# Goggle\n",
    "from goggle.GoggleModel import GoggleModel\n",
    "\n",
    "# Synthcity\n",
    "from synthcity.plugins.core.dataloader import GenericDataLoader\n",
    "from synthcity.plugins import Plugins"
   ]
  },
  {
   "attachments": {},
   "cell_type": "markdown",
   "id": "6f05ebe6",
   "metadata": {},
   "source": [
    "**Load data**"
   ]
  },
  {
   "cell_type": "code",
   "execution_count": 2,
   "id": "d2a80737",
   "metadata": {},
   "outputs": [
    {
     "data": {
      "text/html": [
       "<div>\n",
       "<style scoped>\n",
       "    .dataframe tbody tr th:only-of-type {\n",
       "        vertical-align: middle;\n",
       "    }\n",
       "\n",
       "    .dataframe tbody tr th {\n",
       "        vertical-align: top;\n",
       "    }\n",
       "\n",
       "    .dataframe thead th {\n",
       "        text-align: right;\n",
       "    }\n",
       "</style>\n",
       "<table border=\"1\" class=\"dataframe\">\n",
       "  <thead>\n",
       "    <tr style=\"text-align: right;\">\n",
       "      <th></th>\n",
       "      <th>fixed acidity</th>\n",
       "      <th>volatile acidity</th>\n",
       "      <th>citric acid</th>\n",
       "      <th>residual sugar</th>\n",
       "      <th>chlorides</th>\n",
       "      <th>free sulfur dioxide</th>\n",
       "      <th>total sulfur dioxide</th>\n",
       "      <th>density</th>\n",
       "      <th>pH</th>\n",
       "      <th>sulphates</th>\n",
       "      <th>alcohol</th>\n",
       "      <th>quality</th>\n",
       "    </tr>\n",
       "  </thead>\n",
       "  <tbody>\n",
       "    <tr>\n",
       "      <th>0</th>\n",
       "      <td>-0.528360</td>\n",
       "      <td>0.961877</td>\n",
       "      <td>-1.391472</td>\n",
       "      <td>-0.453218</td>\n",
       "      <td>-0.243707</td>\n",
       "      <td>-0.466193</td>\n",
       "      <td>-0.379133</td>\n",
       "      <td>0.558274</td>\n",
       "      <td>1.288643</td>\n",
       "      <td>-0.579207</td>\n",
       "      <td>-0.960246</td>\n",
       "      <td>5.0</td>\n",
       "    </tr>\n",
       "    <tr>\n",
       "      <th>1</th>\n",
       "      <td>-0.298547</td>\n",
       "      <td>1.967442</td>\n",
       "      <td>-1.391472</td>\n",
       "      <td>0.043416</td>\n",
       "      <td>0.223875</td>\n",
       "      <td>0.872638</td>\n",
       "      <td>0.624363</td>\n",
       "      <td>0.028261</td>\n",
       "      <td>-0.719933</td>\n",
       "      <td>0.128950</td>\n",
       "      <td>-0.584777</td>\n",
       "      <td>5.0</td>\n",
       "    </tr>\n",
       "    <tr>\n",
       "      <th>2</th>\n",
       "      <td>-0.298547</td>\n",
       "      <td>1.297065</td>\n",
       "      <td>-1.186070</td>\n",
       "      <td>-0.169427</td>\n",
       "      <td>0.096353</td>\n",
       "      <td>-0.083669</td>\n",
       "      <td>0.229047</td>\n",
       "      <td>0.134264</td>\n",
       "      <td>-0.331177</td>\n",
       "      <td>-0.048089</td>\n",
       "      <td>-0.584777</td>\n",
       "      <td>5.0</td>\n",
       "    </tr>\n",
       "    <tr>\n",
       "      <th>3</th>\n",
       "      <td>1.654856</td>\n",
       "      <td>-1.384443</td>\n",
       "      <td>1.484154</td>\n",
       "      <td>-0.453218</td>\n",
       "      <td>-0.264960</td>\n",
       "      <td>0.107592</td>\n",
       "      <td>0.411500</td>\n",
       "      <td>0.664277</td>\n",
       "      <td>-0.979104</td>\n",
       "      <td>-0.461180</td>\n",
       "      <td>-0.584777</td>\n",
       "      <td>6.0</td>\n",
       "    </tr>\n",
       "    <tr>\n",
       "      <th>4</th>\n",
       "      <td>-0.528360</td>\n",
       "      <td>0.961877</td>\n",
       "      <td>-1.391472</td>\n",
       "      <td>-0.453218</td>\n",
       "      <td>-0.243707</td>\n",
       "      <td>-0.466193</td>\n",
       "      <td>-0.379133</td>\n",
       "      <td>0.558274</td>\n",
       "      <td>1.288643</td>\n",
       "      <td>-0.579207</td>\n",
       "      <td>-0.960246</td>\n",
       "      <td>5.0</td>\n",
       "    </tr>\n",
       "    <tr>\n",
       "      <th>...</th>\n",
       "      <td>...</td>\n",
       "      <td>...</td>\n",
       "      <td>...</td>\n",
       "      <td>...</td>\n",
       "      <td>...</td>\n",
       "      <td>...</td>\n",
       "      <td>...</td>\n",
       "      <td>...</td>\n",
       "      <td>...</td>\n",
       "      <td>...</td>\n",
       "      <td>...</td>\n",
       "      <td>...</td>\n",
       "    </tr>\n",
       "    <tr>\n",
       "      <th>1594</th>\n",
       "      <td>-1.217796</td>\n",
       "      <td>0.403229</td>\n",
       "      <td>-0.980669</td>\n",
       "      <td>-0.382271</td>\n",
       "      <td>0.053845</td>\n",
       "      <td>1.542054</td>\n",
       "      <td>-0.075043</td>\n",
       "      <td>-0.978765</td>\n",
       "      <td>0.899886</td>\n",
       "      <td>-0.461180</td>\n",
       "      <td>0.072294</td>\n",
       "      <td>5.0</td>\n",
       "    </tr>\n",
       "    <tr>\n",
       "      <th>1595</th>\n",
       "      <td>-1.390155</td>\n",
       "      <td>0.123905</td>\n",
       "      <td>-0.877968</td>\n",
       "      <td>-0.240375</td>\n",
       "      <td>-0.541259</td>\n",
       "      <td>2.211469</td>\n",
       "      <td>0.137820</td>\n",
       "      <td>-0.862162</td>\n",
       "      <td>1.353436</td>\n",
       "      <td>0.601055</td>\n",
       "      <td>0.729364</td>\n",
       "      <td>6.0</td>\n",
       "    </tr>\n",
       "    <tr>\n",
       "      <th>1596</th>\n",
       "      <td>-1.160343</td>\n",
       "      <td>-0.099554</td>\n",
       "      <td>-0.723916</td>\n",
       "      <td>-0.169427</td>\n",
       "      <td>-0.243707</td>\n",
       "      <td>1.255161</td>\n",
       "      <td>-0.196679</td>\n",
       "      <td>-0.533554</td>\n",
       "      <td>0.705508</td>\n",
       "      <td>0.542042</td>\n",
       "      <td>0.541630</td>\n",
       "      <td>6.0</td>\n",
       "    </tr>\n",
       "    <tr>\n",
       "      <th>1597</th>\n",
       "      <td>-1.390155</td>\n",
       "      <td>0.654620</td>\n",
       "      <td>-0.775267</td>\n",
       "      <td>-0.382271</td>\n",
       "      <td>-0.264960</td>\n",
       "      <td>1.542054</td>\n",
       "      <td>-0.075043</td>\n",
       "      <td>-0.676657</td>\n",
       "      <td>1.677400</td>\n",
       "      <td>0.305990</td>\n",
       "      <td>-0.209308</td>\n",
       "      <td>5.0</td>\n",
       "    </tr>\n",
       "    <tr>\n",
       "      <th>1598</th>\n",
       "      <td>-1.332702</td>\n",
       "      <td>-1.216849</td>\n",
       "      <td>1.021999</td>\n",
       "      <td>0.752894</td>\n",
       "      <td>-0.434990</td>\n",
       "      <td>0.203223</td>\n",
       "      <td>-0.135861</td>\n",
       "      <td>-0.666057</td>\n",
       "      <td>0.511130</td>\n",
       "      <td>0.010924</td>\n",
       "      <td>0.541630</td>\n",
       "      <td>6.0</td>\n",
       "    </tr>\n",
       "  </tbody>\n",
       "</table>\n",
       "<p>1599 rows × 12 columns</p>\n",
       "</div>"
      ],
      "text/plain": [
       "      fixed acidity  volatile acidity  citric acid  residual sugar  chlorides  \\\n",
       "0         -0.528360          0.961877    -1.391472       -0.453218  -0.243707   \n",
       "1         -0.298547          1.967442    -1.391472        0.043416   0.223875   \n",
       "2         -0.298547          1.297065    -1.186070       -0.169427   0.096353   \n",
       "3          1.654856         -1.384443     1.484154       -0.453218  -0.264960   \n",
       "4         -0.528360          0.961877    -1.391472       -0.453218  -0.243707   \n",
       "...             ...               ...          ...             ...        ...   \n",
       "1594      -1.217796          0.403229    -0.980669       -0.382271   0.053845   \n",
       "1595      -1.390155          0.123905    -0.877968       -0.240375  -0.541259   \n",
       "1596      -1.160343         -0.099554    -0.723916       -0.169427  -0.243707   \n",
       "1597      -1.390155          0.654620    -0.775267       -0.382271  -0.264960   \n",
       "1598      -1.332702         -1.216849     1.021999        0.752894  -0.434990   \n",
       "\n",
       "      free sulfur dioxide  total sulfur dioxide   density        pH  \\\n",
       "0               -0.466193             -0.379133  0.558274  1.288643   \n",
       "1                0.872638              0.624363  0.028261 -0.719933   \n",
       "2               -0.083669              0.229047  0.134264 -0.331177   \n",
       "3                0.107592              0.411500  0.664277 -0.979104   \n",
       "4               -0.466193             -0.379133  0.558274  1.288643   \n",
       "...                   ...                   ...       ...       ...   \n",
       "1594             1.542054             -0.075043 -0.978765  0.899886   \n",
       "1595             2.211469              0.137820 -0.862162  1.353436   \n",
       "1596             1.255161             -0.196679 -0.533554  0.705508   \n",
       "1597             1.542054             -0.075043 -0.676657  1.677400   \n",
       "1598             0.203223             -0.135861 -0.666057  0.511130   \n",
       "\n",
       "      sulphates   alcohol  quality  \n",
       "0     -0.579207 -0.960246      5.0  \n",
       "1      0.128950 -0.584777      5.0  \n",
       "2     -0.048089 -0.584777      5.0  \n",
       "3     -0.461180 -0.584777      6.0  \n",
       "4     -0.579207 -0.960246      5.0  \n",
       "...         ...       ...      ...  \n",
       "1594  -0.461180  0.072294      5.0  \n",
       "1595   0.601055  0.729364      6.0  \n",
       "1596   0.542042  0.541630      6.0  \n",
       "1597   0.305990 -0.209308      5.0  \n",
       "1598   0.010924  0.541630      6.0  \n",
       "\n",
       "[1599 rows x 12 columns]"
      ]
     },
     "execution_count": 2,
     "metadata": {},
     "output_type": "execute_result"
    }
   ],
   "source": [
    "from sklearn.preprocessing import StandardScaler\n",
    "from sklearn.compose import ColumnTransformer\n",
    "\n",
    "dataset = \"red\"\n",
    "X = pd.read_csv(\"../data/winequality-red.csv\", sep=';')\n",
    "\n",
    "ind = list(range(len(X.columns)))\n",
    "ind = [x for x in ind if x != X.columns.get_loc(\"quality\")]\n",
    "\n",
    "col_list = X.columns[ind]\n",
    "\n",
    "ct = ColumnTransformer(\n",
    "    [(\"scaler\", StandardScaler(), col_list)], remainder=\"passthrough\"\n",
    ")\n",
    "\n",
    "X_ = ct.fit_transform(X)\n",
    "X = pd.DataFrame(X_, index=X.index, columns=X.columns)\n",
    "\n",
    "X"
   ]
  },
  {
   "attachments": {},
   "cell_type": "markdown",
   "id": "02b30a57",
   "metadata": {},
   "source": [
    "**Fit model**\n",
    "\n",
    "Re-run the notebook with different baseline models to generate all the baseline data from the paper."
   ]
  },
  {
   "cell_type": "code",
   "execution_count": 22,
   "id": "3b543a81",
   "metadata": {
    "scrolled": false
   },
   "outputs": [
    {
     "name": "stderr",
     "output_type": "stream",
     "text": [
      "[2023-09-09T15:56:27.447788+0200][953][CRITICAL] module disabled: /home/dariusbarsony/anaconda3/envs/goggle_env/lib/python3.8/site-packages/synthcity/plugins/generic/plugin_arf.py\n",
      "[2023-09-09T15:56:27.451020+0200][953][CRITICAL] module disabled: /home/dariusbarsony/anaconda3/envs/goggle_env/lib/python3.8/site-packages/synthcity/plugins/generic/plugin_great.py\n"
     ]
    }
   ],
   "source": [
    "X_train, X_test = train_test_split(X, random_state=0, test_size=0.2, shuffle=True)\n",
    "gens = Plugins()\n",
    "\n",
    "baseline_models = [\"bayesian_network\", \"ctgan\", \"tvae\", \"nflow\"]\n",
    "\n",
    "gen = gens.get(baseline_models[3])"
   ]
  },
  {
   "cell_type": "code",
   "execution_count": 23,
   "id": "d5851241",
   "metadata": {
    "scrolled": true
   },
   "outputs": [
    {
     "name": "stderr",
     "output_type": "stream",
     "text": [
      " 50%|████▉     | 499/1000 [00:40<00:40, 12.28it/s]\n"
     ]
    },
    {
     "data": {
      "text/plain": [
       "<synthcity.plugins.generic.plugin_nflow.NormalizingFlowsPlugin at 0x7fd3688d6dc0>"
      ]
     },
     "execution_count": 23,
     "metadata": {},
     "output_type": "execute_result"
    }
   ],
   "source": [
    "gen.fit(X_test)"
   ]
  },
  {
   "attachments": {},
   "cell_type": "markdown",
   "id": "26548a09",
   "metadata": {},
   "source": [
    "**Evaluate synthetic data**"
   ]
  },
  {
   "cell_type": "code",
   "execution_count": 30,
   "id": "d5051356",
   "metadata": {
    "scrolled": true
   },
   "outputs": [
    {
     "data": {
      "text/html": [
       "<div>\n",
       "<style scoped>\n",
       "    .dataframe tbody tr th:only-of-type {\n",
       "        vertical-align: middle;\n",
       "    }\n",
       "\n",
       "    .dataframe tbody tr th {\n",
       "        vertical-align: top;\n",
       "    }\n",
       "\n",
       "    .dataframe thead th {\n",
       "        text-align: right;\n",
       "    }\n",
       "</style>\n",
       "<table border=\"1\" class=\"dataframe\">\n",
       "  <thead>\n",
       "    <tr style=\"text-align: right;\">\n",
       "      <th></th>\n",
       "      <th>fixed acidity</th>\n",
       "      <th>volatile acidity</th>\n",
       "      <th>citric acid</th>\n",
       "      <th>residual sugar</th>\n",
       "      <th>chlorides</th>\n",
       "      <th>free sulfur dioxide</th>\n",
       "      <th>total sulfur dioxide</th>\n",
       "      <th>density</th>\n",
       "      <th>pH</th>\n",
       "      <th>sulphates</th>\n",
       "      <th>alcohol</th>\n",
       "      <th>quality</th>\n",
       "    </tr>\n",
       "  </thead>\n",
       "  <tbody>\n",
       "    <tr>\n",
       "      <th>0</th>\n",
       "      <td>-1.133697</td>\n",
       "      <td>-0.313253</td>\n",
       "      <td>-0.248355</td>\n",
       "      <td>-0.359971</td>\n",
       "      <td>-0.465509</td>\n",
       "      <td>-0.155658</td>\n",
       "      <td>-0.360471</td>\n",
       "      <td>-0.790145</td>\n",
       "      <td>-0.588526</td>\n",
       "      <td>0.993695</td>\n",
       "      <td>0.710409</td>\n",
       "      <td>6.0</td>\n",
       "    </tr>\n",
       "    <tr>\n",
       "      <th>1</th>\n",
       "      <td>-0.386712</td>\n",
       "      <td>-1.294182</td>\n",
       "      <td>2.665214</td>\n",
       "      <td>-0.580424</td>\n",
       "      <td>-0.639920</td>\n",
       "      <td>-1.145879</td>\n",
       "      <td>0.235636</td>\n",
       "      <td>-1.014792</td>\n",
       "      <td>-0.758084</td>\n",
       "      <td>0.028676</td>\n",
       "      <td>1.926858</td>\n",
       "      <td>6.0</td>\n",
       "    </tr>\n",
       "    <tr>\n",
       "      <th>2</th>\n",
       "      <td>-0.353249</td>\n",
       "      <td>-1.129870</td>\n",
       "      <td>1.096548</td>\n",
       "      <td>-0.545412</td>\n",
       "      <td>-0.325724</td>\n",
       "      <td>-1.196352</td>\n",
       "      <td>0.037128</td>\n",
       "      <td>-0.407549</td>\n",
       "      <td>-0.757872</td>\n",
       "      <td>0.949097</td>\n",
       "      <td>0.873787</td>\n",
       "      <td>6.0</td>\n",
       "    </tr>\n",
       "    <tr>\n",
       "      <th>3</th>\n",
       "      <td>-0.767890</td>\n",
       "      <td>-0.175346</td>\n",
       "      <td>1.343684</td>\n",
       "      <td>-0.219593</td>\n",
       "      <td>0.098686</td>\n",
       "      <td>-1.105777</td>\n",
       "      <td>-1.230584</td>\n",
       "      <td>-1.522373</td>\n",
       "      <td>-0.814381</td>\n",
       "      <td>-0.536755</td>\n",
       "      <td>1.768834</td>\n",
       "      <td>6.0</td>\n",
       "    </tr>\n",
       "    <tr>\n",
       "      <th>4</th>\n",
       "      <td>-0.670984</td>\n",
       "      <td>-0.726250</td>\n",
       "      <td>-0.688350</td>\n",
       "      <td>-0.688795</td>\n",
       "      <td>-0.073849</td>\n",
       "      <td>-1.112141</td>\n",
       "      <td>-1.133023</td>\n",
       "      <td>-1.860704</td>\n",
       "      <td>1.227602</td>\n",
       "      <td>-0.424107</td>\n",
       "      <td>2.182672</td>\n",
       "      <td>6.0</td>\n",
       "    </tr>\n",
       "  </tbody>\n",
       "</table>\n",
       "</div>"
      ],
      "text/plain": [
       "   fixed acidity  volatile acidity  citric acid  residual sugar  chlorides  \\\n",
       "0      -1.133697         -0.313253    -0.248355       -0.359971  -0.465509   \n",
       "1      -0.386712         -1.294182     2.665214       -0.580424  -0.639920   \n",
       "2      -0.353249         -1.129870     1.096548       -0.545412  -0.325724   \n",
       "3      -0.767890         -0.175346     1.343684       -0.219593   0.098686   \n",
       "4      -0.670984         -0.726250    -0.688350       -0.688795  -0.073849   \n",
       "\n",
       "   free sulfur dioxide  total sulfur dioxide   density        pH  sulphates  \\\n",
       "0            -0.155658             -0.360471 -0.790145 -0.588526   0.993695   \n",
       "1            -1.145879              0.235636 -1.014792 -0.758084   0.028676   \n",
       "2            -1.196352              0.037128 -0.407549 -0.757872   0.949097   \n",
       "3            -1.105777             -1.230584 -1.522373 -0.814381  -0.536755   \n",
       "4            -1.112141             -1.133023 -1.860704  1.227602  -0.424107   \n",
       "\n",
       "    alcohol  quality  \n",
       "0  0.710409      6.0  \n",
       "1  1.926858      6.0  \n",
       "2  0.873787      6.0  \n",
       "3  1.768834      6.0  \n",
       "4  2.182672      6.0  "
      ]
     },
     "execution_count": 30,
     "metadata": {},
     "output_type": "execute_result"
    }
   ],
   "source": [
    "X_synth = gen.generate(count=X_test.shape[0]).dataframe()\n",
    "X_synth.head()"
   ]
  },
  {
   "cell_type": "code",
   "execution_count": 25,
   "id": "f1d1e0bd",
   "metadata": {},
   "outputs": [
    {
     "name": "stdout",
     "output_type": "stream",
     "text": [
      "Quality: 0.610\n",
      "Detection: 0.694\n"
     ]
    }
   ],
   "source": [
    "from synthcity.metrics import eval_statistical\n",
    "from synthcity.metrics import eval_detection\n",
    "from synthcity.metrics import eval_performance\n",
    "\n",
    "\n",
    "def evaluate_synthetic(X_synth, X_test):\n",
    "    quality_evaluator = eval_statistical.AlphaPrecision()\n",
    "    qual_res = quality_evaluator.evaluate(X_test, X_synth)\n",
    "    qual_res = {k: v for (k, v) in qual_res.items() if \"naive\" in k}\n",
    "    qual_score = np.mean(list(qual_res.values()))\n",
    "\n",
    "    xgb_detector = eval_detection.SyntheticDetectionXGB(use_cache=False)\n",
    "    mlp_detector = eval_detection.SyntheticDetectionMLP(use_cache=False)\n",
    "    gmm_detector = eval_detection.SyntheticDetectionGMM(use_cache=False)\n",
    "\n",
    "    xgb_det = xgb_detector.evaluate(X_test, X_synth)\n",
    "    mlp_det = mlp_detector.evaluate(X_test, X_synth)\n",
    "    gmm_det = gmm_detector.evaluate(X_test, X_synth)\n",
    "    det_score = (xgb_det[\"mean\"] + mlp_det[\"mean\"] + gmm_det[\"mean\"]) / 3\n",
    "\n",
    "    return qual_score, det_score\n",
    "\n",
    "\n",
    "X_synth_loader = GenericDataLoader(\n",
    "    X_synth, \n",
    "    target_column='quality'\n",
    ")\n",
    "X_test_loader = GenericDataLoader(\n",
    "    X_test, \n",
    "    target_column='quality'\n",
    ")\n",
    "\n",
    "res = evaluate_synthetic(X_synth_loader, X_test_loader)\n",
    "\n",
    "print(f\"Quality: {res[0]:.3f}\")\n",
    "print(f\"Detection: {res[1]:.3f}\")"
   ]
  },
  {
   "cell_type": "code",
   "execution_count": 31,
   "id": "b9106922",
   "metadata": {},
   "outputs": [],
   "source": [
    "X_synth_loader = GenericDataLoader(\n",
    "    X_synth, \n",
    "    target_column=\"quality\"\n",
    ")\n",
    "X_test_loader = GenericDataLoader(\n",
    "    X_test, \n",
    "    target_column='quality'\n",
    ")\n",
    "\n",
    "xgb_evaluator = eval_performance.PerformanceEvaluatorXGB()\n",
    "linear_evaluator = eval_performance.PerformanceEvaluatorLinear()\n",
    "mlp_evaluator = eval_performance.PerformanceEvaluatorMLP()\n",
    "\n",
    "xgb_score = xgb_evaluator.evaluate(X_test_loader, X_synth_loader)\n",
    "linear_score = linear_evaluator.evaluate(X_test_loader, X_synth_loader)\n",
    "mlp_score = mlp_evaluator.evaluate(X_test_loader, X_synth_loader)\n",
    "\n",
    "gt_perf = (xgb_score[\"gt\"] + linear_score[\"gt\"] + mlp_score[\"gt\"]) / 3\n",
    "synth_perf = (\n",
    "    xgb_score[\"syn_ood\"] + linear_score[\"syn_ood\"] + mlp_score[\"syn_ood\"]\n",
    ") / 3"
   ]
  },
  {
   "cell_type": "code",
   "execution_count": 34,
   "id": "6cfb435c",
   "metadata": {},
   "outputs": [
    {
     "data": {
      "text/plain": [
       "0.6270596496876216"
      ]
     },
     "execution_count": 34,
     "metadata": {},
     "output_type": "execute_result"
    }
   ],
   "source": [
    "gt_perf - synth_perf "
   ]
  },
  {
   "cell_type": "code",
   "execution_count": 10,
   "id": "4f9a0da2",
   "metadata": {},
   "outputs": [],
   "source": [
    "import xgboost as xgb\n",
    "\n",
    "dtrain = xgb.DMatrix(X_test.drop('quality', axis=1), label = X_test['quality'])\n",
    "\n",
    "param = {'max_depth': 2, 'eta': 1, 'objective': 'binary:logistic'}"
   ]
  },
  {
   "cell_type": "code",
   "execution_count": 58,
   "id": "5c00da76",
   "metadata": {},
   "outputs": [
    {
     "ename": "NotImplementedError",
     "evalue": "The specified dataset isn't supported",
     "output_type": "error",
     "traceback": [
      "\u001b[0;31m---------------------------------------------------------------------------\u001b[0m",
      "\u001b[0;31mNotImplementedError\u001b[0m                       Traceback (most recent call last)",
      "Cell \u001b[0;32mIn[58], line 3\u001b[0m\n\u001b[1;32m      1\u001b[0m \u001b[39mfrom\u001b[39;00m \u001b[39mpgmpy\u001b[39;00m\u001b[39m.\u001b[39;00m\u001b[39mutils\u001b[39;00m \u001b[39mimport\u001b[39;00m get_example_model\n\u001b[0;32m----> 3\u001b[0m ecoli \u001b[39m=\u001b[39m get_example_model(model\u001b[39m=\u001b[39;49m\u001b[39m'\u001b[39;49m\u001b[39mecoli70\u001b[39;49m\u001b[39m'\u001b[39;49m)\n",
      "File \u001b[0;32m~/anaconda3/envs/goggle_env/lib/python3.8/site-packages/pgmpy/utils/utils.py:103\u001b[0m, in \u001b[0;36mget_example_model\u001b[0;34m(model)\u001b[0m\n\u001b[1;32m    101\u001b[0m     \u001b[39mraise\u001b[39;00m \u001b[39mValueError\u001b[39;00m(\u001b[39m\"\u001b[39m\u001b[39mdataset should be one of the options\u001b[39m\u001b[39m\"\u001b[39m)\n\u001b[1;32m    102\u001b[0m \u001b[39mif\u001b[39;00m filenames[model] \u001b[39m==\u001b[39m \u001b[39m\"\u001b[39m\u001b[39m\"\u001b[39m:\n\u001b[0;32m--> 103\u001b[0m     \u001b[39mraise\u001b[39;00m \u001b[39mNotImplementedError\u001b[39;00m(\u001b[39m\"\u001b[39m\u001b[39mThe specified dataset isn\u001b[39m\u001b[39m'\u001b[39m\u001b[39mt supported\u001b[39m\u001b[39m\"\u001b[39m)\n\u001b[1;32m    105\u001b[0m path \u001b[39m=\u001b[39m filenames[model]\n\u001b[1;32m    106\u001b[0m \u001b[39mwith\u001b[39;00m gzip\u001b[39m.\u001b[39mopen(resource_filename(\u001b[39m\"\u001b[39m\u001b[39mpgmpy\u001b[39m\u001b[39m\"\u001b[39m, path), \u001b[39m\"\u001b[39m\u001b[39mrb\u001b[39m\u001b[39m\"\u001b[39m) \u001b[39mas\u001b[39;00m f:\n",
      "\u001b[0;31mNotImplementedError\u001b[0m: The specified dataset isn't supported"
     ]
    }
   ],
   "source": [
    "from pgmpy.utils import get_example_model\n",
    "\n",
    "ecoli = get_example_model(model='ecoli70')"
   ]
  },
  {
   "attachments": {},
   "cell_type": "markdown",
   "id": "3328d07b",
   "metadata": {},
   "source": [
    "**Generate TSNE plots**"
   ]
  },
  {
   "cell_type": "code",
   "execution_count": 9,
   "id": "75b4fa9c",
   "metadata": {},
   "outputs": [],
   "source": [
    "X_test[\"label\"] = \"Original\"\n",
    "X_synth[\"label\"] = \"Synthetic\"\n",
    "\n",
    "concat_df = pd.concat([X_test, X_synth], axis=0)\n",
    "y_data = concat_df[\"label\"]\n",
    "x_data = concat_df.drop([\"label\", \"quality\"], axis=1)"
   ]
  },
  {
   "cell_type": "code",
   "execution_count": 10,
   "id": "587eeaa7",
   "metadata": {},
   "outputs": [],
   "source": [
    "from sklearn.manifold import TSNE\n",
    "import seaborn as sns\n",
    "\n",
    "tsne = TSNE(n_components=2, verbose=0, random_state=0)\n",
    "z = tsne.fit_transform(x_data)\n",
    "df = pd.DataFrame()\n",
    "df[\"y\"] = y_data\n",
    "df[\"comp-1\"] = z[:, 0]\n",
    "df[\"comp-2\"] = z[:, 1]"
   ]
  },
  {
   "cell_type": "code",
   "execution_count": 11,
   "id": "8f2acfc2",
   "metadata": {},
   "outputs": [
    {
     "data": {
      "image/png": "[encoded data removed]",
      "text/plain": [
       "<Figure size 400x400 with 1 Axes>"
      ]
     },
     "metadata": {},
     "output_type": "display_data"
    }
   ],
   "source": [
    "plt.figure(figsize=(4, 4))\n",
    "sns.scatterplot(\n",
    "    x=\"comp-1\",\n",
    "    y=\"comp-2\",\n",
    "    hue=df.y.tolist(),\n",
    "    palette=sns.color_palette(\"hls\", 2),\n",
    "    alpha=0.5,\n",
    "    data=df,\n",
    ").set(title=f\"T-SNE Projection\")\n",
    "plt.xlabel(\"comp-1\")\n",
    "plt.ylabel(\"comp-2\")\n",
    "plt.legend()\n",
    "\n",
    "plt.show()"
   ]
  }
 ],
 "metadata": {
  "kernelspec": {
   "display_name": "goggle_env",
   "language": "python",
   "name": "goggle_env"
  },
  "language_info": {
   "codemirror_mode": {
    "name": "ipython",
    "version": 3
   },
   "file_extension": ".py",
   "mimetype": "text/x-python",
   "name": "python",
   "nbconvert_exporter": "python",
   "pygments_lexer": "ipython3",
   "version": "3.8.17"
  },
  "vscode": {
   "interpreter": {
    "hash": "caaa7a57d4482b237d516809dd1cd7d919985bd48a5bd9057cb09257823ba4b2"
   }
  }
 },
 "nbformat": 4,
 "nbformat_minor": 5
}
