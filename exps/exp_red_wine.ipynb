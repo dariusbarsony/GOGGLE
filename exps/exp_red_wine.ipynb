{
 "cells": [
  {
   "cell_type": "code",
   "execution_count": 1,
   "id": "9690a3ca",
   "metadata": {},
   "outputs": [],
   "source": [
    "import sys\n",
    "sys.path.append('../.')\n",
    "import pandas as pd\n",
    "import matplotlib.pyplot as plt\n",
    "import numpy as np"
   ]
  },
  {
   "cell_type": "markdown",
   "id": "bea20699",
   "metadata": {},
   "source": [
    "**Load data**"
   ]
  },
  {
   "cell_type": "code",
   "execution_count": 2,
   "id": "d2a80737",
   "metadata": {},
   "outputs": [
    {
     "data": {
      "text/html": [
       "<div>\n",
       "<style scoped>\n",
       "    .dataframe tbody tr th:only-of-type {\n",
       "        vertical-align: middle;\n",
       "    }\n",
       "\n",
       "    .dataframe tbody tr th {\n",
       "        vertical-align: top;\n",
       "    }\n",
       "\n",
       "    .dataframe thead th {\n",
       "        text-align: right;\n",
       "    }\n",
       "</style>\n",
       "<table border=\"1\" class=\"dataframe\">\n",
       "  <thead>\n",
       "    <tr style=\"text-align: right;\">\n",
       "      <th></th>\n",
       "      <th>fixed acidity</th>\n",
       "      <th>volatile acidity</th>\n",
       "      <th>citric acid</th>\n",
       "      <th>residual sugar</th>\n",
       "      <th>chlorides</th>\n",
       "      <th>free sulfur dioxide</th>\n",
       "      <th>total sulfur dioxide</th>\n",
       "      <th>density</th>\n",
       "      <th>pH</th>\n",
       "      <th>sulphates</th>\n",
       "      <th>alcohol</th>\n",
       "      <th>quality</th>\n",
       "    </tr>\n",
       "  </thead>\n",
       "  <tbody>\n",
       "    <tr>\n",
       "      <th>0</th>\n",
       "      <td>-0.528360</td>\n",
       "      <td>0.961877</td>\n",
       "      <td>-1.391472</td>\n",
       "      <td>-0.453218</td>\n",
       "      <td>-0.243707</td>\n",
       "      <td>-0.466193</td>\n",
       "      <td>-0.379133</td>\n",
       "      <td>0.558274</td>\n",
       "      <td>1.288643</td>\n",
       "      <td>-0.579207</td>\n",
       "      <td>-0.960246</td>\n",
       "      <td>5.0</td>\n",
       "    </tr>\n",
       "    <tr>\n",
       "      <th>1</th>\n",
       "      <td>-0.298547</td>\n",
       "      <td>1.967442</td>\n",
       "      <td>-1.391472</td>\n",
       "      <td>0.043416</td>\n",
       "      <td>0.223875</td>\n",
       "      <td>0.872638</td>\n",
       "      <td>0.624363</td>\n",
       "      <td>0.028261</td>\n",
       "      <td>-0.719933</td>\n",
       "      <td>0.128950</td>\n",
       "      <td>-0.584777</td>\n",
       "      <td>5.0</td>\n",
       "    </tr>\n",
       "    <tr>\n",
       "      <th>2</th>\n",
       "      <td>-0.298547</td>\n",
       "      <td>1.297065</td>\n",
       "      <td>-1.186070</td>\n",
       "      <td>-0.169427</td>\n",
       "      <td>0.096353</td>\n",
       "      <td>-0.083669</td>\n",
       "      <td>0.229047</td>\n",
       "      <td>0.134264</td>\n",
       "      <td>-0.331177</td>\n",
       "      <td>-0.048089</td>\n",
       "      <td>-0.584777</td>\n",
       "      <td>5.0</td>\n",
       "    </tr>\n",
       "    <tr>\n",
       "      <th>3</th>\n",
       "      <td>1.654856</td>\n",
       "      <td>-1.384443</td>\n",
       "      <td>1.484154</td>\n",
       "      <td>-0.453218</td>\n",
       "      <td>-0.264960</td>\n",
       "      <td>0.107592</td>\n",
       "      <td>0.411500</td>\n",
       "      <td>0.664277</td>\n",
       "      <td>-0.979104</td>\n",
       "      <td>-0.461180</td>\n",
       "      <td>-0.584777</td>\n",
       "      <td>6.0</td>\n",
       "    </tr>\n",
       "    <tr>\n",
       "      <th>4</th>\n",
       "      <td>-0.528360</td>\n",
       "      <td>0.961877</td>\n",
       "      <td>-1.391472</td>\n",
       "      <td>-0.453218</td>\n",
       "      <td>-0.243707</td>\n",
       "      <td>-0.466193</td>\n",
       "      <td>-0.379133</td>\n",
       "      <td>0.558274</td>\n",
       "      <td>1.288643</td>\n",
       "      <td>-0.579207</td>\n",
       "      <td>-0.960246</td>\n",
       "      <td>5.0</td>\n",
       "    </tr>\n",
       "  </tbody>\n",
       "</table>\n",
       "</div>"
      ],
      "text/plain": [
       "   fixed acidity  volatile acidity  citric acid  residual sugar  chlorides  \\\n",
       "0      -0.528360          0.961877    -1.391472       -0.453218  -0.243707   \n",
       "1      -0.298547          1.967442    -1.391472        0.043416   0.223875   \n",
       "2      -0.298547          1.297065    -1.186070       -0.169427   0.096353   \n",
       "3       1.654856         -1.384443     1.484154       -0.453218  -0.264960   \n",
       "4      -0.528360          0.961877    -1.391472       -0.453218  -0.243707   \n",
       "\n",
       "   free sulfur dioxide  total sulfur dioxide   density        pH  sulphates  \\\n",
       "0            -0.466193             -0.379133  0.558274  1.288643  -0.579207   \n",
       "1             0.872638              0.624363  0.028261 -0.719933   0.128950   \n",
       "2            -0.083669              0.229047  0.134264 -0.331177  -0.048089   \n",
       "3             0.107592              0.411500  0.664277 -0.979104  -0.461180   \n",
       "4            -0.466193             -0.379133  0.558274  1.288643  -0.579207   \n",
       "\n",
       "    alcohol  quality  \n",
       "0 -0.960246      5.0  \n",
       "1 -0.584777      5.0  \n",
       "2 -0.584777      5.0  \n",
       "3 -0.584777      6.0  \n",
       "4 -0.960246      5.0  "
      ]
     },
     "execution_count": 2,
     "metadata": {},
     "output_type": "execute_result"
    }
   ],
   "source": [
    "from sklearn.preprocessing import StandardScaler\n",
    "from sklearn.compose import ColumnTransformer\n",
    "\n",
    "dataset = 'red_wine'\n",
    "X = pd.read_csv('data/winequality_red.csv', sep=';')\n",
    "ind = list(range(len(X.columns)))\n",
    "ind = [x for x in ind if x != X.columns.get_loc(\"quality\")]\n",
    "col_list = X.columns[ind]\n",
    "ct = ColumnTransformer([('scaler', StandardScaler(), col_list)], remainder='passthrough')\n",
    "\n",
    "X_ = ct.fit_transform(X)\n",
    "X = pd.DataFrame(X_, index=X.index, columns=X.columns)\n",
    "\n",
    "X.head()"
   ]
  },
  {
   "cell_type": "markdown",
   "id": "02b30a57",
   "metadata": {},
   "source": [
    "**Fit model**"
   ]
  },
  {
   "cell_type": "code",
   "execution_count": 3,
   "id": "77e922af",
   "metadata": {},
   "outputs": [],
   "source": [
    "from sklearn.model_selection import train_test_split\n",
    "from GoggleModel import GoggleModel"
   ]
  },
  {
   "cell_type": "code",
   "execution_count": 4,
   "id": "3b543a81",
   "metadata": {
    "scrolled": false
   },
   "outputs": [
    {
     "data": {
      "text/plain": [
       "Goggle(\n",
       "  (learned_graph): LearnedGraph(\n",
       "    (threshold): Threshold(threshold=0.1, value=0)\n",
       "  )\n",
       "  (encoder): Encoder(\n",
       "    (encoder): Sequential(\n",
       "      (0): Linear(in_features=12, out_features=64, bias=True)\n",
       "      (1): ReLU()\n",
       "    )\n",
       "    (encode_mu): Linear(in_features=64, out_features=12, bias=True)\n",
       "    (encode_logvar): Linear(in_features=64, out_features=12, bias=True)\n",
       "  )\n",
       "  (graph_processor): GraphInputProcessorHomo()\n",
       "  (decoder): GraphDecoderHomo(\n",
       "    (decoder): Sequential(\n",
       "      (0): SAGEConv(\n",
       "        (feat_drop): Dropout(p=0.0, inplace=False)\n",
       "        (activation): Tanh()\n",
       "        (fc_self): Linear(in_features=64, out_features=32, bias=False)\n",
       "        (fc_neigh): Linear(in_features=64, out_features=32, bias=False)\n",
       "      )\n",
       "      (1): SAGEConv(\n",
       "        (feat_drop): Dropout(p=0.0, inplace=False)\n",
       "        (fc_self): Linear(in_features=32, out_features=1, bias=False)\n",
       "        (fc_neigh): Linear(in_features=32, out_features=1, bias=False)\n",
       "      )\n",
       "    )\n",
       "  )\n",
       ")"
      ]
     },
     "execution_count": 4,
     "metadata": {},
     "output_type": "execute_result"
    }
   ],
   "source": [
    "X_train, X_test = train_test_split(X, random_state=0, test_size=0.2, shuffle=True)\n",
    "\n",
    "gen = GoggleModel(\n",
    "    ds_name=dataset,\n",
    "    input_dim=X_train.shape[1],\n",
    "    encoder_dim=64,\n",
    "    encoder_l=2,\n",
    "    het_encoding=True,\n",
    "    decoder_dim=64,\n",
    "    decoder_l=2,\n",
    "    threshold=0.1,\n",
    "    het_decoder=False,\n",
    "    graph_prior=None,\n",
    "    prior_mask=None,\n",
    "    device='cuda',\n",
    "    beta=0.1,\n",
    "    seed=0\n",
    ")\n",
    "gen.model"
   ]
  },
  {
   "cell_type": "code",
   "execution_count": 5,
   "id": "d5851241",
   "metadata": {
    "scrolled": true
   },
   "outputs": [
    {
     "name": "stdout",
     "output_type": "stream",
     "text": [
      "[Epoch  50/1000, patience  6] train: 2.169, val: 2.193\n",
      "[Epoch 100/1000, patience 15] train: 2.067, val: 2.101\n",
      "[Epoch 150/1000, patience 22] train: 2.037, val: 2.006\n",
      "[Epoch 200/1000, patience 24] train: 2.055, val: 2.063\n",
      "[Epoch 250/1000, patience 24] train: 2.003, val: 2.005\n",
      "[Epoch 300/1000, patience 44] train: 2.006, val: 1.989\n",
      "Training terminated after 305 epochs\n"
     ]
    }
   ],
   "source": [
    "gen.fit(X_train)"
   ]
  },
  {
   "cell_type": "markdown",
   "id": "95518c5c",
   "metadata": {},
   "source": [
    "**Evaluate synthetic data**"
   ]
  },
  {
   "cell_type": "code",
   "execution_count": 6,
   "id": "2562b5d8",
   "metadata": {},
   "outputs": [
    {
     "data": {
      "text/html": [
       "<div>\n",
       "<style scoped>\n",
       "    .dataframe tbody tr th:only-of-type {\n",
       "        vertical-align: middle;\n",
       "    }\n",
       "\n",
       "    .dataframe tbody tr th {\n",
       "        vertical-align: top;\n",
       "    }\n",
       "\n",
       "    .dataframe thead th {\n",
       "        text-align: right;\n",
       "    }\n",
       "</style>\n",
       "<table border=\"1\" class=\"dataframe\">\n",
       "  <thead>\n",
       "    <tr style=\"text-align: right;\">\n",
       "      <th></th>\n",
       "      <th>fixed acidity</th>\n",
       "      <th>volatile acidity</th>\n",
       "      <th>citric acid</th>\n",
       "      <th>residual sugar</th>\n",
       "      <th>chlorides</th>\n",
       "      <th>free sulfur dioxide</th>\n",
       "      <th>total sulfur dioxide</th>\n",
       "      <th>density</th>\n",
       "      <th>pH</th>\n",
       "      <th>sulphates</th>\n",
       "      <th>alcohol</th>\n",
       "      <th>quality</th>\n",
       "    </tr>\n",
       "  </thead>\n",
       "  <tbody>\n",
       "    <tr>\n",
       "      <th>0</th>\n",
       "      <td>-1.388161</td>\n",
       "      <td>0.637940</td>\n",
       "      <td>-1.115317</td>\n",
       "      <td>-0.861870</td>\n",
       "      <td>-0.661921</td>\n",
       "      <td>0.395454</td>\n",
       "      <td>-0.372404</td>\n",
       "      <td>-2.206398</td>\n",
       "      <td>-0.305792</td>\n",
       "      <td>-1.292479</td>\n",
       "      <td>-0.522733</td>\n",
       "      <td>5.0</td>\n",
       "    </tr>\n",
       "    <tr>\n",
       "      <th>1</th>\n",
       "      <td>-0.662076</td>\n",
       "      <td>-0.974362</td>\n",
       "      <td>0.803534</td>\n",
       "      <td>-0.536548</td>\n",
       "      <td>0.241786</td>\n",
       "      <td>-1.365327</td>\n",
       "      <td>-0.491614</td>\n",
       "      <td>-0.096539</td>\n",
       "      <td>0.894764</td>\n",
       "      <td>-0.692796</td>\n",
       "      <td>-0.307316</td>\n",
       "      <td>5.0</td>\n",
       "    </tr>\n",
       "    <tr>\n",
       "      <th>2</th>\n",
       "      <td>-0.696449</td>\n",
       "      <td>0.463143</td>\n",
       "      <td>-0.672362</td>\n",
       "      <td>-0.519028</td>\n",
       "      <td>-0.727174</td>\n",
       "      <td>1.628104</td>\n",
       "      <td>0.941850</td>\n",
       "      <td>-1.117281</td>\n",
       "      <td>-0.904373</td>\n",
       "      <td>-0.547730</td>\n",
       "      <td>-0.298297</td>\n",
       "      <td>5.0</td>\n",
       "    </tr>\n",
       "    <tr>\n",
       "      <th>3</th>\n",
       "      <td>-1.001649</td>\n",
       "      <td>0.222550</td>\n",
       "      <td>-0.612705</td>\n",
       "      <td>-0.373988</td>\n",
       "      <td>-0.540867</td>\n",
       "      <td>0.604608</td>\n",
       "      <td>-0.267920</td>\n",
       "      <td>-0.746867</td>\n",
       "      <td>0.438983</td>\n",
       "      <td>2.357387</td>\n",
       "      <td>0.584321</td>\n",
       "      <td>7.0</td>\n",
       "    </tr>\n",
       "    <tr>\n",
       "      <th>4</th>\n",
       "      <td>-0.602703</td>\n",
       "      <td>-0.695673</td>\n",
       "      <td>1.051185</td>\n",
       "      <td>-0.719467</td>\n",
       "      <td>-0.187942</td>\n",
       "      <td>-0.614145</td>\n",
       "      <td>0.244772</td>\n",
       "      <td>-0.342581</td>\n",
       "      <td>-0.414192</td>\n",
       "      <td>0.414034</td>\n",
       "      <td>-1.389619</td>\n",
       "      <td>4.0</td>\n",
       "    </tr>\n",
       "  </tbody>\n",
       "</table>\n",
       "</div>"
      ],
      "text/plain": [
       "   fixed acidity  volatile acidity  citric acid  residual sugar  chlorides  \\\n",
       "0      -1.388161          0.637940    -1.115317       -0.861870  -0.661921   \n",
       "1      -0.662076         -0.974362     0.803534       -0.536548   0.241786   \n",
       "2      -0.696449          0.463143    -0.672362       -0.519028  -0.727174   \n",
       "3      -1.001649          0.222550    -0.612705       -0.373988  -0.540867   \n",
       "4      -0.602703         -0.695673     1.051185       -0.719467  -0.187942   \n",
       "\n",
       "   free sulfur dioxide  total sulfur dioxide   density        pH  sulphates  \\\n",
       "0             0.395454             -0.372404 -2.206398 -0.305792  -1.292479   \n",
       "1            -1.365327             -0.491614 -0.096539  0.894764  -0.692796   \n",
       "2             1.628104              0.941850 -1.117281 -0.904373  -0.547730   \n",
       "3             0.604608             -0.267920 -0.746867  0.438983   2.357387   \n",
       "4            -0.614145              0.244772 -0.342581 -0.414192   0.414034   \n",
       "\n",
       "    alcohol  quality  \n",
       "0 -0.522733      5.0  \n",
       "1 -0.307316      5.0  \n",
       "2 -0.298297      5.0  \n",
       "3  0.584321      7.0  \n",
       "4 -1.389619      4.0  "
      ]
     },
     "execution_count": 6,
     "metadata": {},
     "output_type": "execute_result"
    }
   ],
   "source": [
    "X_synth = gen.sample(X_test)\n",
    "X_synth.head()"
   ]
  },
  {
   "cell_type": "code",
   "execution_count": 7,
   "id": "34f4a021",
   "metadata": {},
   "outputs": [
    {
     "name": "stdout",
     "output_type": "stream",
     "text": [
      "Evaluating classification performance...\n",
      "Evaluating classification performance...\n",
      "Evaluating classification performance...\n",
      "Quality: 0.629\n",
      "Detection: 0.745\n",
      "Performance on real: 0.578, on synth: 0.819\n"
     ]
    }
   ],
   "source": [
    "res = gen.evaluate_synthetic(X_synth, X_test)\n",
    "print(f'Quality: {res[0]:.3f}')\n",
    "print(f'Detection: {res[2]:.3f}')\n",
    "print(f'Performance on real: {res[1][0]:.3f}, on synth: {res[1][1]:.3f}')"
   ]
  },
  {
   "cell_type": "markdown",
   "id": "3328d07b",
   "metadata": {},
   "source": [
    "**Generate TSNE plots**"
   ]
  },
  {
   "cell_type": "code",
   "execution_count": 8,
   "id": "75b4fa9c",
   "metadata": {},
   "outputs": [],
   "source": [
    "X_test['label'] = 'Original'\n",
    "X_synth['label'] = 'Synthetic'\n",
    "\n",
    "concat_df = pd.concat([X_test, X_synth], axis=0)\n",
    "y_data = concat_df['label']\n",
    "x_data = concat_df.drop(['label', 'quality'], axis=1)"
   ]
  },
  {
   "cell_type": "code",
   "execution_count": 9,
   "id": "587eeaa7",
   "metadata": {},
   "outputs": [],
   "source": [
    "from sklearn.manifold import TSNE\n",
    "import seaborn as sns\n",
    "\n",
    "tsne = TSNE(n_components=2, verbose=0, random_state=0)\n",
    "z = tsne.fit_transform(x_data)\n",
    "df = pd.DataFrame()\n",
    "df[\"y\"] = y_data\n",
    "df[\"comp-1\"] = z[:,0]\n",
    "df[\"comp-2\"] = z[:,1]"
   ]
  },
  {
   "cell_type": "code",
   "execution_count": 10,
   "id": "8f2acfc2",
   "metadata": {},
   "outputs": [
    {
     "data": {
      "image/png": "[encoded data removed]",
      "text/plain": [
       "<Figure size 288x288 with 1 Axes>"
      ]
     },
     "metadata": {
      "needs_background": "light"
     },
     "output_type": "display_data"
    }
   ],
   "source": [
    "plt.figure(figsize=(4, 4))\n",
    "sns.scatterplot(x=\"comp-1\", y=\"comp-2\", hue=df.y.tolist(),\n",
    "                palette=sns.color_palette(\"hls\", 2), alpha=0.5,\n",
    "                data=df).set(title=f\"T-SNE Projection\")\n",
    "plt.xlabel('comp-1')\n",
    "plt.ylabel('comp-2')\n",
    "plt.legend()\n",
    "\n",
    "plt.show()"
   ]
  },
  {
   "cell_type": "markdown",
   "id": "87eac39a",
   "metadata": {},
   "source": [
    "**Visualise adjacency matrix**"
   ]
  },
  {
   "cell_type": "code",
   "execution_count": 11,
   "id": "12145d90",
   "metadata": {},
   "outputs": [
    {
     "data": {
      "image/png": "[encoded data removed]",
      "text/plain": [
       "<Figure size 288x288 with 2 Axes>"
      ]
     },
     "metadata": {
      "needs_background": "light"
     },
     "output_type": "display_data"
    }
   ],
   "source": [
    "adj_matrix = gen.model.learned_graph(None).cpu().detach().numpy()\n",
    "adj_matrix = np.abs(adj_matrix)\n",
    "plt.figure(figsize=(4, 4))\n",
    "im = plt.imshow(adj_matrix, cmap='inferno', interpolation='nearest', vmin=0, vmax=0.5)\n",
    "plt.colorbar(im, fraction=0.046, pad=0.04)\n",
    "plt.title('Learned graph')\n",
    "plt.axis('off')\n",
    "plt.show()"
   ]
  }
 ],
 "metadata": {
  "kernelspec": {
   "display_name": "Python 3 (ipykernel)",
   "language": "python",
   "name": "python3"
  },
  "language_info": {
   "codemirror_mode": {
    "name": "ipython",
    "version": 3
   },
   "file_extension": ".py",
   "mimetype": "text/x-python",
   "name": "python",
   "nbconvert_exporter": "python",
   "pygments_lexer": "ipython3",
   "version": "3.9.12"
  },
  "vscode": {
   "interpreter": {
    "hash": "31f2aee4e71d21fbe5cf8b01ff0e069b9275f58929596ceb00d14d90e3e16cd6"
   }
  }
 },
 "nbformat": 4,
 "nbformat_minor": 5
}
