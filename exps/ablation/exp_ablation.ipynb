{
 "cells": [
  {
   "cell_type": "code",
   "execution_count": 1,
   "id": "afa6eef8",
   "metadata": {},
   "outputs": [],
   "source": [
    "import torch\n",
    "import random\n",
    "import sys\n",
    "sys.path.append('../.')\n",
    "sys.path.append('../../.')\n",
    "import pandas as pd\n",
    "import matplotlib.pyplot as plt\n",
    "import numpy as np\n",
    "\n",
    "import networkx as nx\n",
    "from pgmpy.estimators import PC"
   ]
  },
  {
   "cell_type": "markdown",
   "id": "a63a83f1",
   "metadata": {},
   "source": [
    "**Load data**"
   ]
  },
  {
   "cell_type": "code",
   "execution_count": 2,
   "id": "6acde865",
   "metadata": {
    "scrolled": true
   },
   "outputs": [
    {
     "data": {
      "text/html": [
       "<div>\n",
       "<style scoped>\n",
       "    .dataframe tbody tr th:only-of-type {\n",
       "        vertical-align: middle;\n",
       "    }\n",
       "\n",
       "    .dataframe tbody tr th {\n",
       "        vertical-align: top;\n",
       "    }\n",
       "\n",
       "    .dataframe thead th {\n",
       "        text-align: right;\n",
       "    }\n",
       "</style>\n",
       "<table border=\"1\" class=\"dataframe\">\n",
       "  <thead>\n",
       "    <tr style=\"text-align: right;\">\n",
       "      <th></th>\n",
       "      <th>Account Balance</th>\n",
       "      <th>Duration of Credit (month)</th>\n",
       "      <th>Payment Status of Previous Credit</th>\n",
       "      <th>Purpose</th>\n",
       "      <th>Credit Amount</th>\n",
       "      <th>Value Savings/Stocks</th>\n",
       "      <th>Length of current employment</th>\n",
       "      <th>Instalment per cent</th>\n",
       "      <th>Sex &amp; Marital Status</th>\n",
       "      <th>Guarantors</th>\n",
       "      <th>...</th>\n",
       "      <th>Most valuable available asset</th>\n",
       "      <th>Age (years)</th>\n",
       "      <th>Concurrent Credits</th>\n",
       "      <th>Type of apartment</th>\n",
       "      <th>No of Credits at this Bank</th>\n",
       "      <th>Occupation</th>\n",
       "      <th>No of dependents</th>\n",
       "      <th>Telephone</th>\n",
       "      <th>Foreign Worker</th>\n",
       "      <th>Target</th>\n",
       "    </tr>\n",
       "  </thead>\n",
       "  <tbody>\n",
       "    <tr>\n",
       "      <th>0</th>\n",
       "      <td>-1.254566</td>\n",
       "      <td>-0.240857</td>\n",
       "      <td>1.344014</td>\n",
       "      <td>-0.301852</td>\n",
       "      <td>-0.787657</td>\n",
       "      <td>-0.699707</td>\n",
       "      <td>-1.145978</td>\n",
       "      <td>0.918477</td>\n",
       "      <td>-0.963650</td>\n",
       "      <td>-0.303686</td>\n",
       "      <td>...</td>\n",
       "      <td>-0.341055</td>\n",
       "      <td>-1.281573</td>\n",
       "      <td>0.460831</td>\n",
       "      <td>-1.751205</td>\n",
       "      <td>-0.704926</td>\n",
       "      <td>0.146949</td>\n",
       "      <td>-0.428290</td>\n",
       "      <td>-0.823318</td>\n",
       "      <td>-0.196014</td>\n",
       "      <td>1.0</td>\n",
       "    </tr>\n",
       "    <tr>\n",
       "      <th>1</th>\n",
       "      <td>-1.254566</td>\n",
       "      <td>-0.987573</td>\n",
       "      <td>1.344014</td>\n",
       "      <td>-1.030963</td>\n",
       "      <td>-0.167384</td>\n",
       "      <td>-0.699707</td>\n",
       "      <td>-0.317959</td>\n",
       "      <td>-0.870183</td>\n",
       "      <td>0.449326</td>\n",
       "      <td>-0.303686</td>\n",
       "      <td>...</td>\n",
       "      <td>-1.293723</td>\n",
       "      <td>0.040363</td>\n",
       "      <td>0.460831</td>\n",
       "      <td>-1.751205</td>\n",
       "      <td>1.027079</td>\n",
       "      <td>0.146949</td>\n",
       "      <td>2.334869</td>\n",
       "      <td>-0.823318</td>\n",
       "      <td>-0.196014</td>\n",
       "      <td>1.0</td>\n",
       "    </tr>\n",
       "    <tr>\n",
       "      <th>2</th>\n",
       "      <td>-0.459026</td>\n",
       "      <td>-0.738668</td>\n",
       "      <td>-0.503428</td>\n",
       "      <td>2.250036</td>\n",
       "      <td>-0.861381</td>\n",
       "      <td>-0.066488</td>\n",
       "      <td>0.510060</td>\n",
       "      <td>-0.870183</td>\n",
       "      <td>-0.963650</td>\n",
       "      <td>-0.303686</td>\n",
       "      <td>...</td>\n",
       "      <td>-1.293723</td>\n",
       "      <td>-1.105315</td>\n",
       "      <td>0.460831</td>\n",
       "      <td>-1.751205</td>\n",
       "      <td>-0.704926</td>\n",
       "      <td>-1.383771</td>\n",
       "      <td>-0.428290</td>\n",
       "      <td>-0.823318</td>\n",
       "      <td>-0.196014</td>\n",
       "      <td>1.0</td>\n",
       "    </tr>\n",
       "    <tr>\n",
       "      <th>3</th>\n",
       "      <td>-1.254566</td>\n",
       "      <td>-0.738668</td>\n",
       "      <td>1.344014</td>\n",
       "      <td>-1.030963</td>\n",
       "      <td>-0.407341</td>\n",
       "      <td>-0.699707</td>\n",
       "      <td>-0.317959</td>\n",
       "      <td>0.024147</td>\n",
       "      <td>0.449326</td>\n",
       "      <td>-0.303686</td>\n",
       "      <td>...</td>\n",
       "      <td>-1.293723</td>\n",
       "      <td>0.304750</td>\n",
       "      <td>0.460831</td>\n",
       "      <td>-1.751205</td>\n",
       "      <td>1.027079</td>\n",
       "      <td>-1.383771</td>\n",
       "      <td>2.334869</td>\n",
       "      <td>-0.823318</td>\n",
       "      <td>5.101669</td>\n",
       "      <td>1.0</td>\n",
       "    </tr>\n",
       "    <tr>\n",
       "      <th>4</th>\n",
       "      <td>-1.254566</td>\n",
       "      <td>-0.738668</td>\n",
       "      <td>1.344014</td>\n",
       "      <td>-1.030963</td>\n",
       "      <td>-0.389974</td>\n",
       "      <td>-0.699707</td>\n",
       "      <td>-0.317959</td>\n",
       "      <td>0.918477</td>\n",
       "      <td>0.449326</td>\n",
       "      <td>-0.303686</td>\n",
       "      <td>...</td>\n",
       "      <td>-0.341055</td>\n",
       "      <td>0.216621</td>\n",
       "      <td>-2.375050</td>\n",
       "      <td>0.135869</td>\n",
       "      <td>1.027079</td>\n",
       "      <td>-1.383771</td>\n",
       "      <td>-0.428290</td>\n",
       "      <td>-0.823318</td>\n",
       "      <td>5.101669</td>\n",
       "      <td>1.0</td>\n",
       "    </tr>\n",
       "  </tbody>\n",
       "</table>\n",
       "<p>5 rows × 21 columns</p>\n",
       "</div>"
      ],
      "text/plain": [
       "   Account Balance  Duration of Credit (month)  \\\n",
       "0        -1.254566                   -0.240857   \n",
       "1        -1.254566                   -0.987573   \n",
       "2        -0.459026                   -0.738668   \n",
       "3        -1.254566                   -0.738668   \n",
       "4        -1.254566                   -0.738668   \n",
       "\n",
       "   Payment Status of Previous Credit   Purpose  Credit Amount  \\\n",
       "0                           1.344014 -0.301852      -0.787657   \n",
       "1                           1.344014 -1.030963      -0.167384   \n",
       "2                          -0.503428  2.250036      -0.861381   \n",
       "3                           1.344014 -1.030963      -0.407341   \n",
       "4                           1.344014 -1.030963      -0.389974   \n",
       "\n",
       "   Value Savings/Stocks  Length of current employment  Instalment per cent  \\\n",
       "0             -0.699707                     -1.145978             0.918477   \n",
       "1             -0.699707                     -0.317959            -0.870183   \n",
       "2             -0.066488                      0.510060            -0.870183   \n",
       "3             -0.699707                     -0.317959             0.024147   \n",
       "4             -0.699707                     -0.317959             0.918477   \n",
       "\n",
       "   Sex & Marital Status  Guarantors  ...  Most valuable available asset  \\\n",
       "0             -0.963650   -0.303686  ...                      -0.341055   \n",
       "1              0.449326   -0.303686  ...                      -1.293723   \n",
       "2             -0.963650   -0.303686  ...                      -1.293723   \n",
       "3              0.449326   -0.303686  ...                      -1.293723   \n",
       "4              0.449326   -0.303686  ...                      -0.341055   \n",
       "\n",
       "   Age (years)  Concurrent Credits  Type of apartment  \\\n",
       "0    -1.281573            0.460831          -1.751205   \n",
       "1     0.040363            0.460831          -1.751205   \n",
       "2    -1.105315            0.460831          -1.751205   \n",
       "3     0.304750            0.460831          -1.751205   \n",
       "4     0.216621           -2.375050           0.135869   \n",
       "\n",
       "   No of Credits at this Bank  Occupation  No of dependents  Telephone  \\\n",
       "0                   -0.704926    0.146949         -0.428290  -0.823318   \n",
       "1                    1.027079    0.146949          2.334869  -0.823318   \n",
       "2                   -0.704926   -1.383771         -0.428290  -0.823318   \n",
       "3                    1.027079   -1.383771          2.334869  -0.823318   \n",
       "4                    1.027079   -1.383771         -0.428290  -0.823318   \n",
       "\n",
       "   Foreign Worker  Target  \n",
       "0       -0.196014     1.0  \n",
       "1       -0.196014     1.0  \n",
       "2       -0.196014     1.0  \n",
       "3        5.101669     1.0  \n",
       "4        5.101669     1.0  \n",
       "\n",
       "[5 rows x 21 columns]"
      ]
     },
     "execution_count": 2,
     "metadata": {},
     "output_type": "execute_result"
    }
   ],
   "source": [
    "from sklearn.preprocessing import StandardScaler\n",
    "from sklearn.compose import ColumnTransformer\n",
    "\n",
    "dataset = 'credit'\n",
    "X = pd.read_csv('../data/german_credit.csv')\n",
    "target = X.pop('Creditability')\n",
    "X['Target']=target\n",
    "X = X.dropna(axis=0)\n",
    "ind = list(range(len(X.columns)))\n",
    "ind = [x for x in ind if x != X.columns.get_loc(\"Target\")]\n",
    "col_list = X.columns[ind]\n",
    "ct = ColumnTransformer([('scaler', StandardScaler(), col_list)], remainder='passthrough')\n",
    "\n",
    "X_ = ct.fit_transform(X)\n",
    "X = pd.DataFrame(X_, index=X.index, columns=X.columns)\n",
    "\n",
    "X.head()"
   ]
  },
  {
   "cell_type": "markdown",
   "id": "427c65cd",
   "metadata": {},
   "source": [
    "**Specify ablation settings**"
   ]
  },
  {
   "cell_type": "code",
   "execution_count": 3,
   "id": "c59b8dfb",
   "metadata": {},
   "outputs": [],
   "source": [
    "def get_adj_mat(adj_type, X, n):\n",
    "    if adj_type == 'ER':\n",
    "        m = int(n**2*0.1) \n",
    "        G = nx.gnm_random_graph(n, m)\n",
    "        adj_mat = np.zeros((n, n))\n",
    "        for i in range(n):\n",
    "            for j in range(n):\n",
    "                if (i, j) in list(G.edges):\n",
    "                    adj_mat[i][j]=1\n",
    "    elif adj_type == 'COV':\n",
    "        adj_mat = abs(np.corrcoef(X.to_numpy().T))\n",
    "    elif adj_type == 'BN':\n",
    "        c = PC(X)\n",
    "        model = c.estimate(variant='parallel', max_cond_vars=3, ci_test='pearsonr')\n",
    "        adj_mat = np.zeros((n, n))\n",
    "        for i, col_name_i in enumerate(X.columns):\n",
    "            for j, col_name_j in enumerate(X.columns):\n",
    "                if (col_name_i, col_name_j) in model.edges():\n",
    "                    adj_mat[i][j] = 1\n",
    "    else:\n",
    "        adj_mat = np.ones((n, n))\n",
    "    \n",
    "    plt.figure(figsize=(4, 4))\n",
    "    im = plt.imshow(adj_mat, cmap='inferno', interpolation='nearest', vmin=0, vmax=1.0)\n",
    "    plt.colorbar(im, fraction=0.046, pad=0.04)\n",
    "    plt.title('Prior graph')\n",
    "    plt.axis('off')\n",
    "    plt.show()\n",
    "    return adj_mat"
   ]
  },
  {
   "cell_type": "markdown",
   "id": "613dd043",
   "metadata": {},
   "source": [
    "**Fit model - compare ablation settings**"
   ]
  },
  {
   "cell_type": "code",
   "execution_count": 4,
   "id": "46651a63",
   "metadata": {},
   "outputs": [],
   "source": [
    "from sklearn.model_selection import train_test_split\n",
    "from GoggleModel import GoggleModel"
   ]
  },
  {
   "cell_type": "code",
   "execution_count": 5,
   "id": "c129c20e",
   "metadata": {
    "scrolled": true
   },
   "outputs": [
    {
     "name": "stdout",
     "output_type": "stream",
     "text": [
      "Considering ablation setting: ER\n"
     ]
    },
    {
     "data": {
      "image/png": "[encoded data removed]",
      "text/plain": [
       "<Figure size 288x288 with 2 Axes>"
      ]
     },
     "metadata": {
      "needs_background": "light"
     },
     "output_type": "display_data"
    },
    {
     "name": "stdout",
     "output_type": "stream",
     "text": [
      "created path to save models...\n",
      "[Epoch  50/1000, patience  0] train: 19.287, val: 19.134\n",
      "[Epoch 100/1000, patience 11] train: 19.257, val: 19.125\n",
      "[Epoch 150/1000, patience  7] train: 19.238, val: 19.099\n",
      "[Epoch 200/1000, patience  0] train: 19.219, val: 19.071\n",
      "[Epoch 250/1000, patience  4] train: 19.206, val: 19.059\n",
      "[Epoch 300/1000, patience 11] train: 19.190, val: 19.049\n",
      "[Epoch 350/1000, patience  0] train: 19.188, val: 19.034\n",
      "[Epoch 400/1000, patience  9] train: 19.189, val: 19.049\n",
      "[Epoch 450/1000, patience 13] train: 19.185, val: 19.039\n",
      "Training terminated after 486 epochs\n",
      "Evaluating classification performance...\n",
      "Evaluating classification performance...\n",
      "Evaluating classification performance...\n",
      "Quality: 0.264\n",
      "Detection: 0.766\n",
      "Performance on real: 0.792, on synth: 0.484\n",
      "Considering ablation setting: COV\n"
     ]
    },
    {
     "data": {
      "image/png": "[encoded data removed]",
      "text/plain": [
       "<Figure size 288x288 with 2 Axes>"
      ]
     },
     "metadata": {
      "needs_background": "light"
     },
     "output_type": "display_data"
    },
    {
     "name": "stdout",
     "output_type": "stream",
     "text": [
      "[Epoch  50/1000, patience  0] train: 19.281, val: 19.132\n",
      "[Epoch 100/1000, patience 11] train: 19.268, val: 19.138\n",
      "[Epoch 150/1000, patience 14] train: 19.264, val: 19.128\n",
      "[Epoch 200/1000, patience  0] train: 19.255, val: 19.108\n",
      "[Epoch 250/1000, patience 50] train: 19.256, val: 19.113\n",
      "Training terminated after 249 epochs\n",
      "Evaluating classification performance...\n",
      "Evaluating classification performance...\n",
      "Evaluating classification performance...\n",
      "Quality: 0.267\n",
      "Detection: 0.759\n",
      "Performance on real: 0.792, on synth: 0.414\n",
      "Considering ablation setting: BN\n"
     ]
    },
    {
     "data": {
      "application/vnd.jupyter.widget-view+json": {
       "model_id": "b1efbf0e66d247898abd0be1c16d55b4",
       "version_major": 2,
       "version_minor": 0
      },
      "text/plain": [
       "  0%|          | 0/3 [00:00<?, ?it/s]"
      ]
     },
     "metadata": {},
     "output_type": "display_data"
    },
    {
     "data": {
      "image/png": "[encoded data removed]",
      "text/plain": [
       "<Figure size 288x288 with 2 Axes>"
      ]
     },
     "metadata": {
      "needs_background": "light"
     },
     "output_type": "display_data"
    },
    {
     "name": "stdout",
     "output_type": "stream",
     "text": [
      "[Epoch  50/1000, patience  0] train: 19.291, val: 19.144\n",
      "[Epoch 100/1000, patience 12] train: 19.271, val: 19.141\n",
      "[Epoch 150/1000, patience 14] train: 19.259, val: 19.128\n",
      "[Epoch 200/1000, patience  0] train: 19.245, val: 19.093\n",
      "[Epoch 250/1000, patience 10] train: 19.229, val: 19.083\n",
      "[Epoch 300/1000, patience  5] train: 19.228, val: 19.075\n",
      "[Epoch 350/1000, patience  0] train: 19.223, val: 19.049\n",
      "[Epoch 400/1000, patience 50] train: 19.209, val: 19.055\n",
      "Training terminated after 399 epochs\n",
      "Evaluating classification performance...\n",
      "Evaluating classification performance...\n",
      "Evaluating classification performance...\n",
      "Quality: 0.301\n",
      "Detection: 0.789\n",
      "Performance on real: 0.792, on synth: 0.383\n",
      "Considering ablation setting: DENSE\n"
     ]
    },
    {
     "data": {
      "image/png": "[encoded data removed]",
      "text/plain": [
       "<Figure size 288x288 with 2 Axes>"
      ]
     },
     "metadata": {
      "needs_background": "light"
     },
     "output_type": "display_data"
    },
    {
     "name": "stdout",
     "output_type": "stream",
     "text": [
      "[Epoch  50/1000, patience  0] train: 19.293, val: 19.145\n",
      "[Epoch 100/1000, patience 12] train: 19.282, val: 19.156\n",
      "[Epoch 150/1000, patience  4] train: 19.283, val: 19.140\n",
      "[Epoch 200/1000, patience 42] train: 19.278, val: 19.133\n",
      "Training terminated after 207 epochs\n",
      "Evaluating classification performance...\n",
      "Evaluating classification performance...\n",
      "Evaluating classification performance...\n",
      "Quality: 0.290\n",
      "Detection: 0.758\n",
      "Performance on real: 0.792, on synth: 0.393\n"
     ]
    }
   ],
   "source": [
    "X_train, X_test = train_test_split(X, random_state=0, test_size=0.2, shuffle=True)\n",
    "\n",
    "for adj_type in ['ER', 'COV', 'BN', 'DENSE']:\n",
    "    print(f'Considering ablation setting: {adj_type}')\n",
    "    adj_mat = get_adj_mat(adj_type, X, n=X_train.shape[1])\n",
    "    gen = GoggleModel(\n",
    "        ds_name=dataset,\n",
    "        input_dim=X_train.shape[1],\n",
    "        encoder_dim=64,\n",
    "        encoder_l=2,\n",
    "        het_encoding=True,\n",
    "        decoder_dim=64,\n",
    "        decoder_l=2,\n",
    "        threshold=0.1,\n",
    "        het_decoder=False,\n",
    "        graph_prior=torch.Tensor(adj_mat),\n",
    "        prior_mask=torch.ones_like(torch.Tensor(adj_mat)),\n",
    "        device='cuda',\n",
    "        beta=0.1,\n",
    "        seed=0\n",
    "    )\n",
    "    gen.fit(X_train)\n",
    "    X_synth = gen.sample(X_test)\n",
    "    res = gen.evaluate_synthetic(X_synth, X_test)\n",
    "    print(f'Quality: {res[0]:.3f}')\n",
    "    print(f'Detection: {res[2]:.3f}')\n",
    "    print(f'Performance on real: {res[1][0]:.3f}, on synth: {res[1][1]:.3f}')"
   ]
  }
 ],
 "metadata": {
  "kernelspec": {
   "display_name": "Python 3 (ipykernel)",
   "language": "python",
   "name": "python3"
  },
  "language_info": {
   "codemirror_mode": {
    "name": "ipython",
    "version": 3
   },
   "file_extension": ".py",
   "mimetype": "text/x-python",
   "name": "python",
   "nbconvert_exporter": "python",
   "pygments_lexer": "ipython3",
   "version": "3.9.12"
  }
 },
 "nbformat": 4,
 "nbformat_minor": 5
}
